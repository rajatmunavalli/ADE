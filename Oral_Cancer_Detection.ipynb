{
  "nbformat": 4,
  "nbformat_minor": 0,
  "metadata": {
    "colab": {
      "provenance": [],
      "gpuType": "T4",
      "include_colab_link": true
    },
    "kernelspec": {
      "name": "python3",
      "display_name": "Python 3"
    },
    "language_info": {
      "name": "python"
    },
    "accelerator": "GPU"
  },
  "cells": [
    {
      "cell_type": "markdown",
      "metadata": {
        "id": "view-in-github",
        "colab_type": "text"
      },
      "source": [
        "<a href=\"https://colab.research.google.com/github/rajatmunavalli/ADE/blob/main/Oral_Cancer_Detection.ipynb\" target=\"_parent\"><img src=\"https://colab.research.google.com/assets/colab-badge.svg\" alt=\"Open In Colab\"/></a>"
      ]
    },
    {
      "cell_type": "code",
      "execution_count": null,
      "metadata": {
        "id": "AD-e1MM5tJiw"
      },
      "outputs": [],
      "source": [
        "import warnings\n",
        "warnings.filterwarnings('ignore')"
      ]
    },
    {
      "cell_type": "code",
      "source": [
        "from google.colab import drive\n",
        "drive.mount('/content/drive')"
      ],
      "metadata": {
        "id": "2RfJTqqQDCKR"
      },
      "execution_count": null,
      "outputs": []
    },
    {
      "cell_type": "code",
      "source": [
        "!unzip /content/drive/MyDrive/Dataset.zip"
      ],
      "metadata": {
        "id": "qRxH_LjPI4NW"
      },
      "execution_count": null,
      "outputs": []
    },
    {
      "cell_type": "code",
      "source": [
        "import numpy as np\n",
        "import matplotlib.pyplot as plt\n",
        "import os\n",
        "import math\n",
        "import shutil\n",
        "import glob"
      ],
      "metadata": {
        "id": "0shmjUAZapJD"
      },
      "execution_count": null,
      "outputs": []
    },
    {
      "cell_type": "code",
      "source": [
        "ROOT_DIR = \"/content/Dataset\"\n",
        "number_of_Images = {}\n",
        "\n",
        "for dir in os.listdir(ROOT_DIR):\n",
        "  number_of_Images[dir] = len(os.listdir(os.path.join(ROOT_DIR,dir)))\n",
        "\n",
        "number_of_Images.items()\n"
      ],
      "metadata": {
        "id": "CEmpd-mDa8k5"
      },
      "execution_count": null,
      "outputs": []
    },
    {
      "cell_type": "code",
      "source": [
        "def dataFolder(p, split):\n",
        "    if not os.path.exists(\"./\" + p):\n",
        "        os.mkdir(\"./\" + p)\n",
        "        for dir in os.listdir(ROOT_DIR):\n",
        "            os.makedirs(\"./\" + p + \"/\" + dir)\n",
        "        for dir in os.listdir(ROOT_DIR):\n",
        "            for img in np.random.choice(a=os.listdir(os.path.join(ROOT_DIR, dir)),\n",
        "                                        size=(math.floor(split * number_of_Images[dir]) - 5),\n",
        "                                        replace=False):\n",
        "                O = os.path.join(ROOT_DIR, dir, img)\n",
        "                D = os.path.join(\"./\" + p, dir)\n",
        "                shutil.copy(O, D)\n",
        "                os.remove(O)\n",
        "    else:\n",
        "        print(f'{p}Folder exists')"
      ],
      "metadata": {
        "id": "95AXGTW3d8gA"
      },
      "execution_count": null,
      "outputs": []
    },
    {
      "cell_type": "code",
      "source": [
        "dataFolder(\"train\",0.7)"
      ],
      "metadata": {
        "id": "4TqGdC7qLHSa"
      },
      "execution_count": null,
      "outputs": []
    },
    {
      "cell_type": "code",
      "source": [
        "dataFolder(\"val\",0.15)"
      ],
      "metadata": {
        "id": "WD-Bd6dEU3B_"
      },
      "execution_count": null,
      "outputs": []
    },
    {
      "cell_type": "code",
      "source": [
        "dataFolder(\"test\",0.15)"
      ],
      "metadata": {
        "id": "GT8HQu71irLP"
      },
      "execution_count": null,
      "outputs": []
    },
    {
      "cell_type": "markdown",
      "source": [
        "**Model Build**"
      ],
      "metadata": {
        "id": "d5NsaUsqjm2d"
      }
    },
    {
      "cell_type": "code",
      "source": [
        "from keras.layers import Conv2D, MaxPool2D, Dropout, Flatten, Dense, BatchNormalization, GlobalAvgPool2D,MaxPooling2D\n",
        "from keras.models import Sequential\n",
        "from keras.preprocessing.image import ImageDataGenerator\n",
        "import keras"
      ],
      "metadata": {
        "id": "1f3UYCnqjaKO"
      },
      "execution_count": null,
      "outputs": []
    },
    {
      "cell_type": "code",
      "source": [
        "# Define the model\n",
        "model = Sequential()\n",
        "\n",
        "# Convolutional layers\n",
        "model.add(Conv2D(filters=16, kernel_size=(3, 3), activation='relu', input_shape=(256, 256, 3)))\n",
        "model.add(Conv2D(filters=32, kernel_size=(3, 3), activation='relu'))\n",
        "model.add(MaxPooling2D(pool_size=(2, 2)))\n",
        "\n",
        "model.add(Conv2D(filters=64, kernel_size=(3, 3), activation='relu'))\n",
        "model.add(Conv2D(filters=64, kernel_size=(3, 3), activation='relu'))\n",
        "model.add(MaxPooling2D(pool_size=(2, 2)))\n",
        "\n",
        "model.add(Conv2D(filters=128, kernel_size=(3, 3), activation='relu'))\n",
        "model.add(Conv2D(filters=128, kernel_size=(3, 3), activation='relu'))\n",
        "model.add(MaxPooling2D(pool_size=(2, 2)))\n",
        "\n",
        "# Dropout layer\n",
        "model.add(Dropout(rate=0.25))\n",
        "\n",
        "# Flatten layer\n",
        "model.add(Flatten())\n",
        "\n",
        "# Dense layers\n",
        "model.add(Dense(units=256, activation='relu'))\n",
        "model.add(Dropout(rate=0.5))\n",
        "model.add(Dense(units=64, activation='relu'))\n",
        "model.add(Dense(units=1, activation='sigmoid'))\n",
        "\n",
        "# Print model summary\n",
        "model.summary()\n"
      ],
      "metadata": {
        "id": "tpdNlo5wpp3d"
      },
      "execution_count": null,
      "outputs": []
    },
    {
      "cell_type": "code",
      "source": [
        "model.compile(optimizer='adam',loss= keras.losses.binary_crossentropy, metrics=['accuracy'])"
      ],
      "metadata": {
        "id": "QHzDRKTxq_oq"
      },
      "execution_count": null,
      "outputs": []
    },
    {
      "cell_type": "markdown",
      "source": [
        "**Prepare our data using Data Generator**"
      ],
      "metadata": {
        "id": "dZKSBl4Uy6m_"
      }
    },
    {
      "cell_type": "code",
      "source": [
        "def preprocessingIMages1(path):\n",
        "  \"\"\"\n",
        "  input : Path\n",
        "  output : Pre processed images\n",
        "  \"\"\"\n",
        "\n",
        "  image_data = ImageDataGenerator(zoom_range = 0.2, shear_range=0.2, rescale=1/255, horizontal_flip= True)\n",
        "  image = image_data.flow_from_directory(directory = path,target_size = (256,256),batch_size =32, class_mode = 'binary')\n",
        "\n",
        "  return image"
      ],
      "metadata": {
        "id": "UrEDbDsuzMHu"
      },
      "execution_count": null,
      "outputs": []
    },
    {
      "cell_type": "code",
      "source": [
        "path = \"/content/train\"\n",
        "train_data = preprocessingIMages1(path)"
      ],
      "metadata": {
        "id": "m5waSRYXz0N1"
      },
      "execution_count": null,
      "outputs": []
    },
    {
      "cell_type": "code",
      "source": [
        "def preprocessingIMages2(path):\n",
        "  \"\"\"\n",
        "  input : Path\n",
        "  output : Pre processed images\n",
        "  \"\"\"\n",
        "\n",
        "  image_data = ImageDataGenerator(rescale=1/255)\n",
        "  image = image_data.flow_from_directory(directory = path,target_size = (256,256),batch_size =32, class_mode = 'binary')\n",
        "\n",
        "  return image"
      ],
      "metadata": {
        "id": "AvUGUNps0N3K"
      },
      "execution_count": null,
      "outputs": []
    },
    {
      "cell_type": "code",
      "source": [
        "path = \"/content/test\"\n",
        "test_data = preprocessingIMages2(path)"
      ],
      "metadata": {
        "id": "sB5JiC1770AD",
        "colab": {
          "base_uri": "https://localhost:8080/"
        },
        "outputId": "512f4bc6-c9de-42c8-d60d-75d90bbee048"
      },
      "execution_count": null,
      "outputs": [
        {
          "output_type": "stream",
          "name": "stdout",
          "text": [
            "Found 768 images belonging to 2 classes.\n"
          ]
        }
      ]
    },
    {
      "cell_type": "code",
      "source": [
        "path = \"/content/val\"\n",
        "val_data = preprocessingIMages2(path)"
      ],
      "metadata": {
        "id": "SZXm87qx7-jj",
        "colab": {
          "base_uri": "https://localhost:8080/"
        },
        "outputId": "bf1ce808-f8ee-4c93-ed5d-ab18ea563bb9"
      },
      "execution_count": null,
      "outputs": [
        {
          "output_type": "stream",
          "name": "stdout",
          "text": [
            "Found 768 images belonging to 2 classes.\n"
          ]
        }
      ]
    },
    {
      "cell_type": "code",
      "source": [
        "#Early stopping and model check point\n",
        "from keras.callbacks import ModelCheckpoint, EarlyStopping\n",
        "\n",
        "#early stopping\n",
        "es = EarlyStopping(monitor=\"val_accuracy\", min_delta=0.01, patience=5, verbose=1, mode='auto')\n",
        "\n",
        "#model checkpoint\n",
        "mc = ModelCheckpoint(monitor=\"val_accuracy\", filepath=\"./bestmodel.h5\", verbose=1, save_best_only=True ,mode='auto')\n",
        "\n",
        "cd =[es,mc]"
      ],
      "metadata": {
        "id": "wYYejoIa8G-y"
      },
      "execution_count": null,
      "outputs": []
    },
    {
      "cell_type": "markdown",
      "source": [
        "Model Training"
      ],
      "metadata": {
        "id": "DIBAh2WI9_1T"
      }
    },
    {
      "cell_type": "code",
      "source": [
        "hs = model.fit_generator(generator= train_data,\n",
        "                         steps_per_epoch=len(train_data), epochs= 50,\n",
        "                         verbose= 1,\n",
        "                         validation_data= val_data, validation_steps= 16,\n",
        "                         callbacks= cd)"
      ],
      "metadata": {
        "id": "VY7c5mhh87nW"
      },
      "execution_count": null,
      "outputs": []
    },
    {
      "cell_type": "code",
      "source": [
        "from keras.callbacks import ModelCheckpoint, LearningRateScheduler\n",
        "from keras.optimizers import Adam\n",
        "\n",
        "# Define a learning rate scheduler\n",
        "def scheduler(epoch, lr):\n",
        "    if epoch % 10 == 0 and epoch != 0:\n",
        "        lr = lr * 0.9\n",
        "    return lr\n",
        "\n",
        "# Learning rate scheduler callback\n",
        "lr_scheduler = LearningRateScheduler(scheduler)\n",
        "\n",
        "# Model checkpoint\n",
        "mc = ModelCheckpoint(filepath=\"./bestmodel.h5\", monitor=\"val_accuracy\", verbose=1, save_best_only=True, mode='auto')\n",
        "\n",
        "callbacks = [mc, lr_scheduler]\n",
        "\n",
        "# Compile the model with Adam optimizer and a learning rate of 0.001\n",
        "optimizer = Adam(learning_rate=0.001)\n",
        "model.compile(optimizer=optimizer, loss='binary_crossentropy', metrics=['accuracy'])\n",
        "\n",
        "# Train the model\n",
        "history = model.fit_generator(generator=train_data,\n",
        "                              steps_per_epoch=8,\n",
        "                              epochs=30,\n",
        "                              verbose=1,\n",
        "                              validation_data=val_data,\n",
        "                              validation_steps=len(val_data),\n",
        "                              callbacks=callbacks)"
      ],
      "metadata": {
        "id": "YIVKKMYcQb9H"
      },
      "execution_count": null,
      "outputs": []
    },
    {
      "cell_type": "code",
      "source": [
        "from keras.models import load_model\n",
        "model = load_model (\"/content/bestmodel.h5\")"
      ],
      "metadata": {
        "id": "wZZ670__mR8W"
      },
      "execution_count": null,
      "outputs": []
    },
    {
      "cell_type": "code",
      "source": [
        "acc=model.evaluate_generator(test_data)[1]\n",
        "# print(model.evaluate_generator(train_data))\n",
        "print(\"The accuracy of our model is\" ,acc*100)"
      ],
      "metadata": {
        "colab": {
          "base_uri": "https://localhost:8080/"
        },
        "id": "ODKvTzuwmU_4",
        "outputId": "4a325ec4-b8be-41f6-dad8-b4f836462c03"
      },
      "execution_count": null,
      "outputs": [
        {
          "output_type": "stream",
          "name": "stdout",
          "text": [
            "The accuracy of our model is 83.984375\n"
          ]
        }
      ]
    }
  ]
}